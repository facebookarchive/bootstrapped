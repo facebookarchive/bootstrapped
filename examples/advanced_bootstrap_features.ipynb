{
 "cells": [
  {
   "cell_type": "raw",
   "metadata": {
    "collapsed": true
   },
   "source": [
    "Copyright 2016-present, Facebook, Inc.\n",
    " \n",
    "All rights reserved.\n",
    " \n",
    "This source code is licensed under the license found in the LICENSE-examples file in the root directory of this source tree."
   ]
  },
  {
   "cell_type": "markdown",
   "metadata": {},
   "source": [
    "# Advanced Bootstrap Features\n",
    "In this example we will cover:\n",
    "* Bootstrapping with custom aggregation functions\n",
    "* Bootstrapping Ratios  \n",
    "  * Bootstrap( SUM(numerator) / SUM(denominator) )\n",
    "  * Bootstrap( AVG(numerator / denominator) )\n",
    "\n",
    "**Note:** Here we will demonstrate bs.bootstrap of this same functionality is available with bootstrap_ab"
   ]
  },
  {
   "cell_type": "code",
   "execution_count": 1,
   "metadata": {
    "collapsed": true
   },
   "outputs": [],
   "source": [
    "import matplotlib.pyplot as plt\n",
    "import matplotlib\n",
    "import pandas as pd\n",
    "import numpy as np"
   ]
  },
  {
   "cell_type": "code",
   "execution_count": 2,
   "metadata": {
    "collapsed": false
   },
   "outputs": [],
   "source": [
    "import bootstrapped.bootstrap as bs\n",
    "import bootstrapped.compare_functions as bs_compare\n",
    "import bootstrapped.stats_functions as bs_stats"
   ]
  },
  {
   "cell_type": "markdown",
   "metadata": {},
   "source": [
    "## Set up the data"
   ]
  },
  {
   "cell_type": "code",
   "execution_count": 3,
   "metadata": {
    "collapsed": false
   },
   "outputs": [],
   "source": [
    "df = pd.DataFrame()\n",
    "df['revenue'] = np.random.normal(loc=100, scale=90, size=1000000)\n",
    "df['revenue'] = df['revenue'].apply(lambda x: x if x > 0 else 1)\n",
    "\n",
    "df['clicks'] = np.random.binomial(100, 0.15, 1000000) \n",
    "\n",
    "sample_df = df[:5000]"
   ]
  },
  {
   "cell_type": "code",
   "execution_count": 4,
   "metadata": {
    "collapsed": false
   },
   "outputs": [
    {
     "name": "stdout",
     "output_type": "stream",
     "text": [
      "106.133594774\n",
      "105.37894894    (103.155297296, 107.549433364)\n"
     ]
    }
   ],
   "source": [
    "# Calculate the estimate of revenue per record \n",
    "print(df.revenue.mean())\n",
    "\n",
    "print(bs.bootstrap(values=sample_df.revenue.values, stat_func=bs_stats.mean))"
   ]
  },
  {
   "cell_type": "markdown",
   "metadata": {},
   "source": [
    "### Bootstraps with custom functions\n",
    "Lets demonstrate a simple eample of how to calculate the bootstrapped mean in a custom function. Should give similar results to the above function calls."
   ]
  },
  {
   "cell_type": "code",
   "execution_count": 5,
   "metadata": {
    "collapsed": false
   },
   "outputs": [
    {
     "name": "stdout",
     "output_type": "stream",
     "text": [
      "length of the array 5000\n",
      "function input shape (12345, 5000)\n",
      "function output shape (12345,) == num bootstrap iterations\n",
      "\n",
      "105.350491418    (103.246572005, 107.598528079)\n"
     ]
    }
   ],
   "source": [
    "def custom_mean(values):\n",
    "    '''Calculate the mean of values for each bootstrap sample\n",
    "    Args:\n",
    "        values: a np.array of values we want to calculate the statistic on\n",
    "            This is actually a 2d array (matrix) of values. Each row represents \n",
    "            a bootstrap resample simulation that we wish to aggretage across.\n",
    "    '''\n",
    "    \n",
    "    # 12345 bootstrap resample simulations\n",
    "    print('function input shape {}'.format(values.shape))\n",
    "    \n",
    "    mean_values = values.mean(axis=1)\n",
    "    \n",
    "    print('function output shape {} == num bootstrap iterations'.format(mean_values.shape))\n",
    "    \n",
    "    return mean_values\n",
    "\n",
    "print('length of the array', len(sample_df.revenue.values))\n",
    "\n",
    "results = bs.bootstrap(sample_df.revenue.values, custom_mean, num_iterations=12345)\n",
    "print()\n",
    "print(results)"
   ]
  },
  {
   "cell_type": "code",
   "execution_count": 6,
   "metadata": {
    "collapsed": false
   },
   "outputs": [
    {
     "name": "stdout",
     "output_type": "stream",
     "text": [
      "105.390518051    (103.167009787, 107.583823505)\n"
     ]
    }
   ],
   "source": [
    "# alternatively we could write our function to aggregate across rows and ignore the axis\n",
    "# this is much slower\n",
    "\n",
    "def alternate_mean(values):\n",
    "    # note this way of doing things is often slower, but not always\n",
    "    return np.array([np.mean(v) for v in values])\n",
    "    \n",
    "print(bs.bootstrap(sample_df.revenue.values, alternate_mean))"
   ]
  },
  {
   "cell_type": "markdown",
   "metadata": {},
   "source": [
    "### Bootstraps with 'advanced' functions"
   ]
  },
  {
   "cell_type": "code",
   "execution_count": 7,
   "metadata": {
    "collapsed": false
   },
   "outputs": [
    {
     "name": "stdout",
     "output_type": "stream",
     "text": [
      "240.377455222    (235.409574035, 246.39621899)\n"
     ]
    }
   ],
   "source": [
    "def percentile_range(values):\n",
    "    '''Calculate a percentile range of values\n",
    "    Args:\n",
    "        values: a np.array of values we want to calculate the statistic on\n",
    "            This is actually a 2d array (matrix) of values. Each row represents \n",
    "            a bootstrap resample simulation that we wish to aggretage across.\n",
    "    '''\n",
    "    p95 = np.percentile(values, 95, axis=1)\n",
    "    p5 = np.percentile(values, 5, axis=1)  \n",
    "    return p95 - p5\n",
    "    \n",
    "\n",
    "print(bs.bootstrap(sample_df.revenue.values, percentile_range))"
   ]
  },
  {
   "cell_type": "markdown",
   "metadata": {},
   "source": [
    "# Denominator Values"
   ]
  },
  {
   "cell_type": "markdown",
   "metadata": {},
   "source": [
    "If you would like to bootstrap the global Clicks Per Dollar reduction you need a function that does:\n",
    "\n",
    "**Bootstrap(SUM(Clicks) / SUM(Revenue))**\n",
    "\n",
    "and not \n",
    "\n",
    "**Mean(Bootstrap(Clicks/Revenue))**\n",
    "\n",
    "The first gives you the global reduction. In this case you want to sample a whole record according to an event (revenue, click) and then calculate from that. In this case this is achievable by the following code (in addition to more complex functions). "
   ]
  },
  {
   "cell_type": "code",
   "execution_count": 8,
   "metadata": {
    "collapsed": false
   },
   "outputs": [
    {
     "name": "stdout",
     "output_type": "stream",
     "text": [
      "2.52033023071\n",
      "2.34355715099    (2.1880213099, 2.50488848647)\n"
     ]
    }
   ],
   "source": [
    "print(df.clicks / df.revenue).mean() \n",
    "\n",
    "print(bs.bootstrap(\n",
    "    sample_df.clicks.values / sample_df.revenue.values,\n",
    "    bs_stats.mean\n",
    "))"
   ]
  },
  {
   "cell_type": "code",
   "execution_count": 9,
   "metadata": {
    "collapsed": false
   },
   "outputs": [
    {
     "name": "stdout",
     "output_type": "stream",
     "text": [
      "0.141290804593\n",
      "0.141671340896    (0.138651692035, 0.14478146765)\n"
     ]
    }
   ],
   "source": [
    "print(df.clicks.sum() / df.revenue.sum())\n",
    "\n",
    "print(bs.bootstrap(\n",
    "    sample_df.clicks.values,\n",
    "    bs_stats.mean,\n",
    "    denominator_values=sample_df.revenue.values\n",
    "))"
   ]
  }
 ],
 "metadata": {
  "anaconda-cloud": {},
  "kernelspec": {
   "display_name": "Python [default]",
   "language": "python",
   "name": "python2"
  },
  "language_info": {
   "codemirror_mode": {
    "name": "ipython",
    "version": 2
   },
   "file_extension": ".py",
   "mimetype": "text/x-python",
   "name": "python",
   "nbconvert_exporter": "python",
   "pygments_lexer": "ipython2",
   "version": "2.7.12"
  }
 },
 "nbformat": 4,
 "nbformat_minor": 0
}
